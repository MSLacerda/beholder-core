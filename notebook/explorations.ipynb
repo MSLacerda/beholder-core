{
 "cells": [
  {
   "cell_type": "markdown",
   "metadata": {
    "scrolled": false
   },
   "source": [
    "# Simple Expressions"
   ]
  },
  {
   "cell_type": "code",
   "execution_count": 1,
   "metadata": {},
   "outputs": [
    {
     "name": "stdout",
     "output_type": "stream",
     "text": [
      "3.0\n"
     ]
    }
   ],
   "source": [
    "# Importing Tensorflow and alias then\n",
    "import tensorflow as tf\n",
    "\n",
    "# Tutorial from \n",
    "# https://www.toptal.com/machine-learning/tensorflow-machine-learning-tutorial\n",
    "\n",
    "# Normal and \"simple\" way of expression\n",
    "x = -2.0\n",
    "y = 5*x + 13\n",
    "\n",
    "print y\n",
    "#---------------------- END -------------------#"
   ]
  },
  {
   "cell_type": "code",
   "execution_count": 2,
   "metadata": {},
   "outputs": [],
   "source": [
    "# Tensorflow way\n",
    "\n",
    "## Constants\n",
    "\n",
    "# Signature\n",
    "# constant(value, dtype=None, shape=None, name='Const', verify_shape=False)\n",
    "\n",
    "z = tf.constant(5.2, name=\"x\", dtype=tf.float32)\n",
    "\n",
    "#---------------------- END -------------------#"
   ]
  },
  {
   "cell_type": "code",
   "execution_count": 3,
   "metadata": {},
   "outputs": [],
   "source": [
    "# Tensorflow way\n",
    "\n",
    "## Variables\n",
    "\n",
    "a = 3\n",
    "b = 2\n",
    "\n",
    "k = tf.Variable(tf.add(a, b), trainable=False)\n",
    "\n",
    "#---------------------- END -------------------#\n",
    "\n"
   ]
  },
  {
   "cell_type": "code",
   "execution_count": 4,
   "metadata": {},
   "outputs": [
    {
     "name": "stdout",
     "output_type": "stream",
     "text": [
      "3.0\n"
     ]
    }
   ],
   "source": [
    "x = tf.constant(-2.0, name=\"x\", dtype=tf.float32)\n",
    "a = tf.constant(5.0, name=\"a\", dtype=tf.float32)\n",
    "b = tf.constant(13.0, name=\"b\", dtype=tf.float32)\n",
    "\n",
    "y = tf.Variable(tf.add(tf.multiply(a, x), b))\n",
    "\n",
    "init = tf.global_variables_initializer()\n",
    "\n",
    "with tf.Session() as session:\n",
    "    merged = tf.summary.merge_all()\n",
    "    writter = tf.summary.FileWriter(\"logs\", session.graph)\n",
    "    \n",
    "    session.run(init)\n",
    "    print session.run(y)\n",
    "    "
   ]
  },
  {
   "cell_type": "markdown",
   "metadata": {},
   "source": [
    "# Mathematics\n",
    "\n",
    "\n"
   ]
  },
  {
   "cell_type": "code",
   "execution_count": 5,
   "metadata": {
    "scrolled": true
   },
   "outputs": [
    {
     "name": "stdout",
     "output_type": "stream",
     "text": [
      "[  1.45  -1.     0.2  102.1 ]\n",
      "1.45\n",
      "0.2\n",
      "1\n",
      "(4,)\n",
      "float64\n"
     ]
    }
   ],
   "source": [
    "import numpy as np\n",
    "\n",
    "\n",
    "# 1-d Tensor\n",
    "tensor_1d = np.array([1.45, -1, 0.2, 102.1])\n",
    "\n",
    "\n",
    "print tensor_1d\n",
    "print tensor_1d[0]\n",
    "print tensor_1d[2]\n",
    "print tensor_1d.ndim\n",
    "print tensor_1d.shape\n",
    "print tensor_1d.dtype\n",
    "\n"
   ]
  },
  {
   "cell_type": "code",
   "execution_count": 6,
   "metadata": {},
   "outputs": [
    {
     "name": "stdout",
     "output_type": "stream",
     "text": [
      "[  1.45  -1.     0.2  102.1 ]\n",
      "1.45\n"
     ]
    }
   ],
   "source": [
    "\n",
    "# Converting to tensor\n",
    "tensor = tf.convert_to_tensor(tensor_1d, dtype=tf.float64)\n",
    "\n",
    "\n",
    "with tf.Session() as session:\n",
    "    print session.run(tensor)\n",
    "    print session.run(tensor[0])"
   ]
  },
  {
   "cell_type": "code",
   "execution_count": 7,
   "metadata": {},
   "outputs": [],
   "source": [
    "tensor_2d = np.array(np.random.rand(4, 4), dtype='float32')\n",
    "tensor_2d_1 = np.array(np.random.rand(4, 4), dtype='float32')\n",
    "tensor_2d_2 = np.array(np.random.rand(4, 4), dtype='float32')\n",
    "\n",
    "m1 = tf.convert_to_tensor(tensor_2d)\n",
    "m2 = tf.convert_to_tensor(tensor_2d_1)\n",
    "m3 = tf.convert_to_tensor(tensor_2d_2)\n",
    "\n",
    "mat_product = tf.matmul(m1, m2)\n",
    "mat_sum = tf.add(m2, m2)\n",
    "\n"
   ]
  }
 ],
 "metadata": {
  "kernelspec": {
   "display_name": "Python 2",
   "language": "python",
   "name": "python2"
  },
  "language_info": {
   "codemirror_mode": {
    "name": "ipython",
    "version": 2
   },
   "file_extension": ".py",
   "mimetype": "text/x-python",
   "name": "python",
   "nbconvert_exporter": "python",
   "pygments_lexer": "ipython2",
   "version": "2.7.12"
  }
 },
 "nbformat": 4,
 "nbformat_minor": 2
}
