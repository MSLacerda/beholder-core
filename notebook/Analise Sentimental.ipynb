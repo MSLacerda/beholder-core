{
 "cells": [
  {
   "cell_type": "code",
   "execution_count": 66,
   "metadata": {},
   "outputs": [],
   "source": [
    "# -*- coding: utf-8 -*-\n",
    "import sys\n",
    "import matplotlib\n",
    "import matplotlib.pyplot as plt\n",
    "\n",
    "import tensorflow as tf\n",
    "from tensorflow import keras\n",
    "\n",
    "(train_data, train_labels), (test_data, test_labels) = imdb.load_data(num_words=10000)"
   ]
  },
  {
   "cell_type": "code",
   "execution_count": 67,
   "metadata": {},
   "outputs": [
    {
     "name": "stdout",
     "output_type": "stream",
     "text": [
      "Entradas do Treinamento: 25000, labels: 25000\n"
     ]
    }
   ],
   "source": [
    "print(\"Entradas do Treinamento: {}, labels: {}\".format(len(train_data), len(train_labels)))"
   ]
  },
  {
   "cell_type": "code",
   "execution_count": 89,
   "metadata": {},
   "outputs": [],
   "source": [
    "# A dictionary mapping words to an integer index\n",
    "word_index = imdb.get_word_index()\n",
    "\n",
    "# The first indices are reserved\n",
    "word_index = {k:(v+3) for k,v in word_index.items()} \n",
    "word_index[\"<PAD>\"] = 0\n",
    "word_index[\"<START>\"] = 1\n",
    "word_index[\"<UNK>\"] = 2  # unknown\n",
    "word_index[\"<UNUSED>\"] = 3\n",
    "\n",
    "reverse_word_index = dict([(value, key) for (key, value) in word_index.items()])\n",
    "word_index = dict([(key, value) for (key, value) in word_index.items()])\n",
    "\n",
    "def decode_review(text):\n",
    "    return ' '.join([reverse_word_index.get(i, '?') for i in text])\n",
    "\n",
    "def encode_review(text):\n",
    "    sentences = clean_text(text)\n",
    "    word_index = imdb.get_word_index()\n",
    "    x_test = [[self.word_index[w] for w in sentences if w in self.word_index]]\n",
    "    x_test = pad_sequences(x_test, maxlen=256) # Should be same which you used for training data\n",
    "    vector = np.array([x_test.flatten()])\n",
    "    \n",
    "    return vector"
   ]
  },
  {
   "cell_type": "code",
   "execution_count": 69,
   "metadata": {},
   "outputs": [
    {
     "data": {
      "text/plain": [
       "u\"<START> this film was just brilliant casting location scenery story direction everyone's really suited the part they played and you could just imagine being there robert <UNK> is an amazing actor and now the same being director <UNK> father came from the same scottish island as myself so i loved the fact there was a real connection with this film the witty remarks throughout the film were great it was just brilliant so much that i bought the film as soon as it was released for <UNK> and would recommend it to everyone to watch and the fly fishing was amazing really cried at the end it was so sad and you know what they say if you cry at a film it must have been good and this definitely was also <UNK> to the two little boy's that played the <UNK> of norman and paul they were just brilliant children are often left out of the <UNK> list i think because the stars that play them all grown up are such a big profile for the whole film but these children are amazing and should be praised for what they have done don't you think the whole story was so lovely because it was true and was someone's life after all that was shared with us all\""
      ]
     },
     "execution_count": 69,
     "metadata": {},
     "output_type": "execute_result"
    }
   ],
   "source": [
    "decode_review(train_data[0])\n"
   ]
  },
  {
   "cell_type": "code",
   "execution_count": 70,
   "metadata": {},
   "outputs": [],
   "source": [
    "predict_data = test_data\n",
    "train_data = keras.preprocessing.sequence.pad_sequences(train_data,\n",
    "                                                        value=word_index[\"<PAD>\"],\n",
    "                                                        padding='post',\n",
    "                                                        maxlen=256)\n",
    "\n",
    "test_data = keras.preprocessing.sequence.pad_sequences(test_data,\n",
    "                                                       value=word_index[\"<PAD>\"],\n",
    "                                                       padding='post',\n",
    "                                                       maxlen=256)"
   ]
  },
  {
   "cell_type": "code",
   "execution_count": 71,
   "metadata": {
    "scrolled": false
   },
   "outputs": [
    {
     "data": {
      "text/plain": [
       "(256, 256)"
      ]
     },
     "execution_count": 71,
     "metadata": {},
     "output_type": "execute_result"
    }
   ],
   "source": [
    "len(train_data[0]), len(train_data[1])\n"
   ]
  },
  {
   "cell_type": "code",
   "execution_count": 72,
   "metadata": {},
   "outputs": [
    {
     "name": "stdout",
     "output_type": "stream",
     "text": [
      "[   1   14   22   16   43  530  973 1622 1385   65  458 4468   66 3941\n",
      "    4  173   36  256    5   25  100   43  838  112   50  670    2    9\n",
      "   35  480  284    5  150    4  172  112  167    2  336  385   39    4\n",
      "  172 4536 1111   17  546   38   13  447    4  192   50   16    6  147\n",
      " 2025   19   14   22    4 1920 4613  469    4   22   71   87   12   16\n",
      "   43  530   38   76   15   13 1247    4   22   17  515   17   12   16\n",
      "  626   18    2    5   62  386   12    8  316    8  106    5    4 2223\n",
      " 5244   16  480   66 3785   33    4  130   12   16   38  619    5   25\n",
      "  124   51   36  135   48   25 1415   33    6   22   12  215   28   77\n",
      "   52    5   14  407   16   82    2    8    4  107  117 5952   15  256\n",
      "    4    2    7 3766    5  723   36   71   43  530  476   26  400  317\n",
      "   46    7    4    2 1029   13  104   88    4  381   15  297   98   32\n",
      " 2071   56   26  141    6  194 7486   18    4  226   22   21  134  476\n",
      "   26  480    5  144   30 5535   18   51   36   28  224   92   25  104\n",
      "    4  226   65   16   38 1334   88   12   16  283    5   16 4472  113\n",
      "  103   32   15   16 5345   19  178   32    0    0    0    0    0    0\n",
      "    0    0    0    0    0    0    0    0    0    0    0    0    0    0\n",
      "    0    0    0    0    0    0    0    0    0    0    0    0    0    0\n",
      "    0    0    0    0]\n"
     ]
    }
   ],
   "source": [
    "print(train_data[0])\n"
   ]
  },
  {
   "cell_type": "code",
   "execution_count": 73,
   "metadata": {},
   "outputs": [
    {
     "name": "stdout",
     "output_type": "stream",
     "text": [
      "_________________________________________________________________\n",
      "Layer (type)                 Output Shape              Param #   \n",
      "=================================================================\n",
      "embedding_1 (Embedding)      (None, None, 16)          160000    \n",
      "_________________________________________________________________\n",
      "global_average_pooling1d_1 ( (None, 16)                0         \n",
      "_________________________________________________________________\n",
      "dense_2 (Dense)              (None, 16)                272       \n",
      "_________________________________________________________________\n",
      "dense_3 (Dense)              (None, 1)                 17        \n",
      "=================================================================\n",
      "Total params: 160,289\n",
      "Trainable params: 160,289\n",
      "Non-trainable params: 0\n",
      "_________________________________________________________________\n"
     ]
    }
   ],
   "source": [
    "# input shape is the vocabulary count used for the movie reviews (10,000 words)\n",
    "vocab_size = 10000\n",
    "\n",
    "model = keras.Sequential()\n",
    "model.add(keras.layers.Embedding(vocab_size, 16))\n",
    "model.add(keras.layers.GlobalAveragePooling1D())\n",
    "model.add(keras.layers.Dense(16, activation=tf.nn.relu))\n",
    "model.add(keras.layers.Dense(1, activation=tf.nn.sigmoid))\n",
    "\n",
    "model.summary()"
   ]
  },
  {
   "cell_type": "code",
   "execution_count": 74,
   "metadata": {},
   "outputs": [
    {
     "name": "stdout",
     "output_type": "stream",
     "text": [
      "Train on 15000 samples, validate on 10000 samples\n",
      "Epoch 1/40\n",
      "15000/15000 [==============================] - 2s 154us/step - loss: 0.6919 - acc: 0.5143 - val_loss: 0.6902 - val_acc: 0.5573\n",
      "Epoch 2/40\n",
      "15000/15000 [==============================] - 1s 44us/step - loss: 0.6862 - acc: 0.6481 - val_loss: 0.6820 - val_acc: 0.7332\n",
      "Epoch 3/40\n",
      "15000/15000 [==============================] - 1s 41us/step - loss: 0.6731 - acc: 0.7520 - val_loss: 0.6655 - val_acc: 0.7521\n",
      "Epoch 4/40\n",
      "15000/15000 [==============================] - 1s 47us/step - loss: 0.6496 - acc: 0.7747 - val_loss: 0.6390 - val_acc: 0.7665\n",
      "Epoch 5/40\n",
      "15000/15000 [==============================] - 1s 45us/step - loss: 0.6144 - acc: 0.8003 - val_loss: 0.6012 - val_acc: 0.7895\n",
      "Epoch 6/40\n",
      "15000/15000 [==============================] - 1s 42us/step - loss: 0.5696 - acc: 0.8179 - val_loss: 0.5578 - val_acc: 0.8063\n",
      "Epoch 7/40\n",
      "15000/15000 [==============================] - 1s 42us/step - loss: 0.5186 - acc: 0.8355 - val_loss: 0.5096 - val_acc: 0.8230\n",
      "Epoch 8/40\n",
      "15000/15000 [==============================] - 1s 42us/step - loss: 0.4665 - acc: 0.8514 - val_loss: 0.4653 - val_acc: 0.8375\n",
      "Epoch 9/40\n",
      "15000/15000 [==============================] - 1s 42us/step - loss: 0.4206 - acc: 0.8640 - val_loss: 0.4277 - val_acc: 0.8470\n",
      "Epoch 10/40\n",
      "15000/15000 [==============================] - 1s 42us/step - loss: 0.3809 - acc: 0.8777 - val_loss: 0.3975 - val_acc: 0.8541\n",
      "Epoch 11/40\n",
      "15000/15000 [==============================] - 1s 41us/step - loss: 0.3486 - acc: 0.8849 - val_loss: 0.3755 - val_acc: 0.8582\n",
      "Epoch 12/40\n",
      "15000/15000 [==============================] - 1s 42us/step - loss: 0.3223 - acc: 0.8917 - val_loss: 0.3545 - val_acc: 0.8661\n",
      "Epoch 13/40\n",
      "15000/15000 [==============================] - 1s 46us/step - loss: 0.2986 - acc: 0.8986 - val_loss: 0.3402 - val_acc: 0.8697\n",
      "Epoch 14/40\n",
      "15000/15000 [==============================] - 1s 41us/step - loss: 0.2792 - acc: 0.9049 - val_loss: 0.3276 - val_acc: 0.8735\n",
      "Epoch 15/40\n",
      "15000/15000 [==============================] - 1s 41us/step - loss: 0.2624 - acc: 0.9095 - val_loss: 0.3180 - val_acc: 0.8764\n",
      "Epoch 16/40\n",
      "15000/15000 [==============================] - 1s 40us/step - loss: 0.2480 - acc: 0.9141 - val_loss: 0.3103 - val_acc: 0.8791\n",
      "Epoch 17/40\n",
      "15000/15000 [==============================] - 1s 41us/step - loss: 0.2341 - acc: 0.9200 - val_loss: 0.3040 - val_acc: 0.8798\n",
      "Epoch 18/40\n",
      "15000/15000 [==============================] - 1s 43us/step - loss: 0.2221 - acc: 0.9238 - val_loss: 0.2988 - val_acc: 0.8820\n",
      "Epoch 19/40\n",
      "15000/15000 [==============================] - 1s 43us/step - loss: 0.2108 - acc: 0.9273 - val_loss: 0.2949 - val_acc: 0.8826\n",
      "Epoch 20/40\n",
      "15000/15000 [==============================] - 1s 42us/step - loss: 0.2009 - acc: 0.9310 - val_loss: 0.2915 - val_acc: 0.8830\n",
      "Epoch 21/40\n",
      "15000/15000 [==============================] - 1s 41us/step - loss: 0.1913 - acc: 0.9352 - val_loss: 0.2890 - val_acc: 0.8840\n",
      "Epoch 22/40\n",
      "15000/15000 [==============================] - 1s 46us/step - loss: 0.1824 - acc: 0.9393 - val_loss: 0.2876 - val_acc: 0.8834\n",
      "Epoch 23/40\n",
      "15000/15000 [==============================] - 1s 42us/step - loss: 0.1744 - acc: 0.9428 - val_loss: 0.2867 - val_acc: 0.8837\n",
      "Epoch 24/40\n",
      "15000/15000 [==============================] - 1s 42us/step - loss: 0.1663 - acc: 0.9470 - val_loss: 0.2854 - val_acc: 0.8844\n",
      "Epoch 25/40\n",
      "15000/15000 [==============================] - 1s 41us/step - loss: 0.1593 - acc: 0.9500 - val_loss: 0.2851 - val_acc: 0.8858\n",
      "Epoch 26/40\n",
      "15000/15000 [==============================] - 1s 41us/step - loss: 0.1521 - acc: 0.9521 - val_loss: 0.2855 - val_acc: 0.8851\n",
      "Epoch 27/40\n",
      "15000/15000 [==============================] - 1s 42us/step - loss: 0.1462 - acc: 0.9546 - val_loss: 0.2867 - val_acc: 0.8847\n",
      "Epoch 28/40\n",
      "15000/15000 [==============================] - 1s 41us/step - loss: 0.1400 - acc: 0.9573 - val_loss: 0.2867 - val_acc: 0.8862\n",
      "Epoch 29/40\n",
      "15000/15000 [==============================] - 1s 44us/step - loss: 0.1343 - acc: 0.9594 - val_loss: 0.2878 - val_acc: 0.8870\n",
      "Epoch 30/40\n",
      "15000/15000 [==============================] - 1s 45us/step - loss: 0.1293 - acc: 0.9610 - val_loss: 0.2896 - val_acc: 0.8863\n",
      "Epoch 31/40\n",
      "15000/15000 [==============================] - 1s 43us/step - loss: 0.1233 - acc: 0.9641 - val_loss: 0.2915 - val_acc: 0.8865\n",
      "Epoch 32/40\n",
      "15000/15000 [==============================] - 1s 43us/step - loss: 0.1187 - acc: 0.9661 - val_loss: 0.2938 - val_acc: 0.8857\n",
      "Epoch 33/40\n",
      "15000/15000 [==============================] - 1s 43us/step - loss: 0.1134 - acc: 0.9682 - val_loss: 0.2961 - val_acc: 0.8840\n",
      "Epoch 34/40\n",
      "15000/15000 [==============================] - 1s 42us/step - loss: 0.1090 - acc: 0.9694 - val_loss: 0.2994 - val_acc: 0.8844\n",
      "Epoch 35/40\n",
      "15000/15000 [==============================] - 1s 41us/step - loss: 0.1051 - acc: 0.9708 - val_loss: 0.3014 - val_acc: 0.8841\n",
      "Epoch 36/40\n",
      "15000/15000 [==============================] - 1s 42us/step - loss: 0.1003 - acc: 0.9731 - val_loss: 0.3048 - val_acc: 0.8837\n",
      "Epoch 37/40\n",
      "15000/15000 [==============================] - 1s 46us/step - loss: 0.0964 - acc: 0.9743 - val_loss: 0.3081 - val_acc: 0.8834\n",
      "Epoch 38/40\n",
      "15000/15000 [==============================] - 1s 46us/step - loss: 0.0931 - acc: 0.9747 - val_loss: 0.3119 - val_acc: 0.8824\n",
      "Epoch 39/40\n",
      "15000/15000 [==============================] - 1s 46us/step - loss: 0.0889 - acc: 0.9774 - val_loss: 0.3145 - val_acc: 0.8831\n",
      "Epoch 40/40\n",
      "15000/15000 [==============================] - 1s 43us/step - loss: 0.0852 - acc: 0.9789 - val_loss: 0.3186 - val_acc: 0.8820\n"
     ]
    }
   ],
   "source": [
    "model.compile(optimizer=tf.train.AdamOptimizer(),\n",
    "              loss='binary_crossentropy',\n",
    "              metrics=['accuracy'])\n",
    "\n",
    "x_val = train_data[:10000]\n",
    "partial_x_train = train_data[10000:]\n",
    "\n",
    "y_val = train_labels[:10000]\n",
    "partial_y_train = train_labels[10000:]\n",
    "\n",
    "history = model.fit(partial_x_train,\n",
    "                    partial_y_train,\n",
    "                    epochs=40,\n",
    "                    batch_size=512,\n",
    "                    validation_data=(x_val, y_val),\n",
    "                    verbose=1)"
   ]
  },
  {
   "cell_type": "code",
   "execution_count": 75,
   "metadata": {},
   "outputs": [
    {
     "name": "stdout",
     "output_type": "stream",
     "text": [
      "25000/25000 [==============================] - 1s 21us/step\n",
      "[0.3396013977622986, 0.87228]\n"
     ]
    }
   ],
   "source": [
    "results = model.evaluate(test_data, test_labels)\n",
    "\n",
    "print(results)"
   ]
  },
  {
   "cell_type": "code",
   "execution_count": 92,
   "metadata": {},
   "outputs": [
    {
     "name": "stdout",
     "output_type": "stream",
     "text": [
      "<START> first of i should point out that i used to love <UNK> the <UNK> as a child and i really enjoyed the movie even though i am in my <UNK> br br but this movie was so bad i was ashamed to have been a fan in my youth br br ok ok i know this is a movie for kids and isn't aimed at people like me anyway but this is my thoughts on the movie for other people of my age br br the main downfall in this film is the itself it has to be the most annoying character i have seen in a child's movie possibly even more annoying then the young child in monsters inc it has the most annoying voice and <UNK> around singing stupid things and making even more stupid comments i know <UNK> movies aren't exactly high brow but this was insulting to even a 2 year <UNK> intelligence br br secondly where was the story previous <UNK> <UNK> had a least a point to the story yes i can see this was about accepting people who are different to you into your hearts but really it ended and i felt like i had watched a 5 minute cartoon on kids tv br br i don't have children of my own but when i do i fully intend to show them quality children's movies like the movie toy story and finding <UNK> even though they are too childish for me these days i can see how they would be of great appeal to young children not so with this appalling attempt at a movie br br oh and one more thing not enough <UNK> he should have his own movie\n",
      "[[0.00119158]]\n",
      "<START> from 1996 first i watched this movie i feel never reach the end of my satisfaction i feel that i want to watch more and more until now my god i don't believe it was ten years ago and i can believe that i almost remember every word of the dialogues i love this movie and i love this novel absolutely perfection i love willem <UNK> he has a strange voice to spell the words black night and i always say it for many times never being bored i love the music of it's so much made me come into another world deep in my heart anyone can feel what i feel and anyone could make the movie like this i don't believe so thanks thanks\n",
      "[[0.9993887]]\n"
     ]
    }
   ],
   "source": [
    "# 50 é pra ser negativo\n",
    "\n",
    "predict_test = predict_data[50]\n",
    "\n",
    "print(decode_review(predict_test))\n",
    "\n",
    "print(model.predict(np.array([predict_test])))\n",
    "\n",
    "predict_test = predict_data[16]\n",
    "\n",
    "print(decode_review(predict_test))\n",
    "\n",
    "print(model.predict(np.array([predict_test])))\n"
   ]
  },
  {
   "cell_type": "code",
   "execution_count": 90,
   "metadata": {},
   "outputs": [
    {
     "ename": "NameError",
     "evalue": "global name 'clean_text' is not defined",
     "output_type": "error",
     "traceback": [
      "\u001b[0;31m\u001b[0m",
      "\u001b[0;31mNameError\u001b[0mTraceback (most recent call last)",
      "\u001b[0;32m<ipython-input-90-c730b9a76b5b>\u001b[0m in \u001b[0;36m<module>\u001b[0;34m()\u001b[0m\n\u001b[0;32m----> 1\u001b[0;31m \u001b[0;32mprint\u001b[0m\u001b[0;34m(\u001b[0m\u001b[0mencode_review\u001b[0m\u001b[0;34m(\u001b[0m\u001b[0;34m'enough'\u001b[0m\u001b[0;34m)\u001b[0m\u001b[0;34m)\u001b[0m\u001b[0;34m\u001b[0m\u001b[0m\n\u001b[0m",
      "\u001b[0;32m<ipython-input-89-4b32bffc4a57>\u001b[0m in \u001b[0;36mencode_review\u001b[0;34m(text)\u001b[0m\n\u001b[1;32m     16\u001b[0m \u001b[0;34m\u001b[0m\u001b[0m\n\u001b[1;32m     17\u001b[0m \u001b[0;32mdef\u001b[0m \u001b[0mencode_review\u001b[0m\u001b[0;34m(\u001b[0m\u001b[0mtext\u001b[0m\u001b[0;34m)\u001b[0m\u001b[0;34m:\u001b[0m\u001b[0;34m\u001b[0m\u001b[0m\n\u001b[0;32m---> 18\u001b[0;31m     \u001b[0msentences\u001b[0m \u001b[0;34m=\u001b[0m \u001b[0mclean_text\u001b[0m\u001b[0;34m(\u001b[0m\u001b[0mtext\u001b[0m\u001b[0;34m)\u001b[0m\u001b[0;34m\u001b[0m\u001b[0m\n\u001b[0m\u001b[1;32m     19\u001b[0m     \u001b[0mword_index\u001b[0m \u001b[0;34m=\u001b[0m \u001b[0mimdb\u001b[0m\u001b[0;34m.\u001b[0m\u001b[0mget_word_index\u001b[0m\u001b[0;34m(\u001b[0m\u001b[0;34m)\u001b[0m\u001b[0;34m\u001b[0m\u001b[0m\n\u001b[1;32m     20\u001b[0m     \u001b[0mx_test\u001b[0m \u001b[0;34m=\u001b[0m \u001b[0;34m[\u001b[0m\u001b[0;34m[\u001b[0m\u001b[0mself\u001b[0m\u001b[0;34m.\u001b[0m\u001b[0mword_index\u001b[0m\u001b[0;34m[\u001b[0m\u001b[0mw\u001b[0m\u001b[0;34m]\u001b[0m \u001b[0;32mfor\u001b[0m \u001b[0mw\u001b[0m \u001b[0;32min\u001b[0m \u001b[0msentences\u001b[0m \u001b[0;32mif\u001b[0m \u001b[0mw\u001b[0m \u001b[0;32min\u001b[0m \u001b[0mself\u001b[0m\u001b[0;34m.\u001b[0m\u001b[0mword_index\u001b[0m\u001b[0;34m]\u001b[0m\u001b[0;34m]\u001b[0m\u001b[0;34m\u001b[0m\u001b[0m\n",
      "\u001b[0;31mNameError\u001b[0m: global name 'clean_text' is not defined"
     ]
    }
   ],
   "source": [
    "\n"
   ]
  },
  {
   "cell_type": "code",
   "execution_count": null,
   "metadata": {},
   "outputs": [],
   "source": []
  }
 ],
 "metadata": {
  "kernelspec": {
   "display_name": "Python 2",
   "language": "python",
   "name": "python2"
  },
  "language_info": {
   "codemirror_mode": {
    "name": "ipython",
    "version": 2
   },
   "file_extension": ".py",
   "mimetype": "text/x-python",
   "name": "python",
   "nbconvert_exporter": "python",
   "pygments_lexer": "ipython2",
   "version": "2.7.12"
  }
 },
 "nbformat": 4,
 "nbformat_minor": 2
}
